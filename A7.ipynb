{
  "nbformat": 4,
  "nbformat_minor": 0,
  "metadata": {
    "colab": {
      "provenance": []
    },
    "kernelspec": {
      "name": "python3",
      "display_name": "Python 3"
    },
    "language_info": {
      "name": "python"
    }
  },
  "cells": [
    {
      "cell_type": "code",
      "execution_count": 4,
      "metadata": {
        "colab": {
          "base_uri": "https://localhost:8080/"
        },
        "id": "E7VPFtvdclHg",
        "outputId": "3adce15f-9068-4861-d438-00daf2c8fae1"
      },
      "outputs": [
        {
          "output_type": "stream",
          "name": "stdout",
          "text": [
            "After normalization:\n",
            "      Record ID       age sex on thyroxine query on thyroxine  \\\n",
            "0  0.000000e+00 -0.037634   F            f                  f   \n",
            "1  3.410871e-08 -0.037634   F            f                  f   \n",
            "2  9.891527e-07 -0.027499   F            f                  f   \n",
            "3  6.934301e-05 -0.031722   F            f                  f   \n",
            "4  6.937712e-05 -0.035100   F            f                  f   \n",
            "\n",
            "  on antithyroid medication sick pregnant thyroid surgery I131 treatment  ...  \\\n",
            "0                         f    f        f               f              f  ...   \n",
            "1                         f    f        f               f              f  ...   \n",
            "2                         f    f        f               f              f  ...   \n",
            "3                         f    f        f               f              f  ...   \n",
            "4                         f    f        f               f              f  ...   \n",
            "\n",
            "  TT4 measured       TT4 T4U measured T4U FTI measured FTI TBG measured  \\\n",
            "0            f       NaN            f NaN            f NaN            f   \n",
            "1            t  0.514377            f NaN            f NaN            f   \n",
            "2            f       NaN            f NaN            f NaN            t   \n",
            "3            f       NaN            f NaN            f NaN            t   \n",
            "4            f       NaN            f NaN            f NaN            t   \n",
            "\n",
            "        TBG  referral source     Condition  \n",
            "0       NaN            other  NO CONDITION  \n",
            "1       NaN            other  NO CONDITION  \n",
            "2 -0.896428            other  NO CONDITION  \n",
            "3 -0.183848            other  NO CONDITION  \n",
            "4  0.291205            other             S  \n",
            "\n",
            "[5 rows x 31 columns]\n"
          ]
        }
      ],
      "source": [
        "import pandas as pd\n",
        "from sklearn.preprocessing import MinMaxScaler, StandardScaler\n",
        "import numpy as np\n",
        "\n",
        "def has_outliers(series):\n",
        "    \"\"\"\n",
        "    Determine if a numeric series has outliers using the IQR method.\n",
        "    \"\"\"\n",
        "    q1 = series.quantile(0.25)\n",
        "    q3 = series.quantile(0.75)\n",
        "    iqr = q3 - q1\n",
        "    lower_bound = q1 - 1.5 * iqr\n",
        "    upper_bound = q3 + 1.5 * iqr\n",
        "    return ((series < lower_bound) | (series > upper_bound)).any()\n",
        "\n",
        "def normalize_data(df):\n",
        "    \"\"\"\n",
        "    Normalize numerical data in the DataFrame using Min-Max Scaling or Z-Score Normalization.\n",
        "    \"\"\"\n",
        "    # Initialize scalers\n",
        "    min_max_scaler = MinMaxScaler()\n",
        "    standard_scaler = StandardScaler()\n",
        "\n",
        "    for column in df.columns:\n",
        "        if df[column].dtype in ['int64', 'float64']:  # Check for numerical columns\n",
        "            # Convert to numeric if not already\n",
        "            df[column] = pd.to_numeric(df[column], errors='coerce')\n",
        "\n",
        "            # Determine if outliers are present\n",
        "            if has_outliers(df[column]):\n",
        "                # Apply Z-Score Normalization if outliers are present\n",
        "                df[column] = standard_scaler.fit_transform(df[[column]])\n",
        "            else:\n",
        "                # Apply Min-Max Normalization if no outliers are present\n",
        "                df[column] = min_max_scaler.fit_transform(df[[column]])\n",
        "\n",
        "    return df\n",
        "\n",
        "def main():\n",
        "    # Load the Excel file\n",
        "    file_path = \"/content/Lab Session Data.xlsx\"\n",
        "    df = pd.read_excel(file_path, sheet_name='thyroid0387_UCI')\n",
        "\n",
        "    # Replace '?' with NaN\n",
        "    df.replace('?', np.nan, inplace=True)\n",
        "\n",
        "    # Normalize the data\n",
        "    df = normalize_data(df)\n",
        "\n",
        "    # Print the first few rows after normalization\n",
        "    print(\"After normalization:\")\n",
        "    print(df.head())\n",
        "\n",
        "    # Save the normalized dataframe back to an Excel file\n",
        "    output_path = '/content/thyroid0387_UCI_normalized.xlsx'\n",
        "    df.to_excel(output_path, index=False)\n",
        "\n",
        "if __name__ == \"__main__\":\n",
        "    main()\n"
      ]
    }
  ]
}