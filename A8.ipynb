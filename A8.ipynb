{
  "nbformat": 4,
  "nbformat_minor": 0,
  "metadata": {
    "colab": {
      "provenance": []
    },
    "kernelspec": {
      "name": "python3",
      "display_name": "Python 3"
    },
    "language_info": {
      "name": "python"
    }
  },
  "cells": [
    {
      "cell_type": "code",
      "source": [
        "import pandas as pd\n",
        "\n",
        "def calculate_jaccard_coefficient(vec1, vec2):\n",
        "    \"\"\"\n",
        "    Calculate the Jaccard Coefficient between two binary vectors.\n",
        "    \"\"\"\n",
        "    f11 = sum((vec1 == 1) & (vec2 == 1))\n",
        "    f01 = sum((vec1 == 0) & (vec2 == 1))\n",
        "    f10 = sum((vec1 == 1) & (vec2 == 0))\n",
        "\n",
        "    if (f01 + f10 + f11) == 0:\n",
        "        return 0\n",
        "    jc = f11 / (f01 + f10 + f11)\n",
        "    return jc\n",
        "\n",
        "def calculate_simple_matching_coefficient(vec1, vec2):\n",
        "    \"\"\"\n",
        "    Calculate the Simple Matching Coefficient between two binary vectors.\n",
        "    \"\"\"\n",
        "    f11 = sum((vec1 == 1) & (vec2 == 1))\n",
        "    f00 = sum((vec1 == 0) & (vec2 == 0))\n",
        "    f01 = sum((vec1 == 0) & (vec2 == 1))\n",
        "    f10 = sum((vec1 == 1) & (vec2 == 0))\n",
        "\n",
        "    smc = (f00 + f11) / (f00 + f01 + f10 + f11)\n",
        "    return smc\n",
        "\n",
        "def main():\n",
        "    # Load the Excel file\n",
        "    file_path = '/content/Lab Session Data.xlsx'\n",
        "    df = pd.read_excel(file_path, sheet_name='marketing_campaign')\n",
        "\n",
        "    # Filter only binary attributes (0 and 1)\n",
        "    binary_df = df[df.columns[df.nunique() == 2]]\n",
        "\n",
        "    # Get the first two observation vectors\n",
        "    vec1 = binary_df.iloc[0]\n",
        "    vec2 = binary_df.iloc[1]\n",
        "\n",
        "    # Calculate Jaccard Coefficient\n",
        "    jc = calculate_jaccard_coefficient(vec1, vec2)\n",
        "    print(f\"Jaccard Coefficient: {jc}\")\n",
        "\n",
        "    # Calculate Simple Matching Coefficient\n",
        "    smc = calculate_simple_matching_coefficient(vec1, vec2)\n",
        "    print(f\"Simple Matching Coefficient: {smc}\")\n",
        "\n",
        "if __name__ == \"__main__\":\n",
        "    main()"
      ],
      "metadata": {
        "colab": {
          "base_uri": "https://localhost:8080/"
        },
        "id": "vI8G1l0r2EFW",
        "outputId": "4d322d20-7d0d-421f-c425-852ab6fa0f0d"
      },
      "execution_count": 7,
      "outputs": [
        {
          "output_type": "stream",
          "name": "stdout",
          "text": [
            "Jaccard Coefficient: 0.0\n",
            "Simple Matching Coefficient: 0.8571428571428571\n"
          ]
        }
      ]
    }
  ]
}