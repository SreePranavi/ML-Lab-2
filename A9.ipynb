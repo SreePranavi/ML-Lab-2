{
  "nbformat": 4,
  "nbformat_minor": 0,
  "metadata": {
    "colab": {
      "provenance": []
    },
    "kernelspec": {
      "name": "python3",
      "display_name": "Python 3"
    },
    "language_info": {
      "name": "python"
    }
  },
  "cells": [
    {
      "cell_type": "code",
      "source": [],
      "metadata": {
        "id": "gWwGlId1z96n"
      },
      "execution_count": null,
      "outputs": []
    },
    {
      "cell_type": "code",
      "source": [
        "import pandas as pd\n",
        "import numpy as np\n",
        "\n",
        "def load_data(file_path, sheet_name):\n",
        "    \"\"\"Load data from an Excel sheet and return a DataFrame.\"\"\"\n",
        "    try:\n",
        "        df = pd.read_excel(file_path, sheet_name=sheet_name)\n",
        "        df = df.apply(pd.to_numeric, errors='coerce')\n",
        "\n",
        "        if df.isnull().values.any():\n",
        "            df = df.fillna(0)\n",
        "\n",
        "        return df\n",
        "    except FileNotFoundError:\n",
        "        raise FileNotFoundError(f\"Error: The file at path '{file_path}' was not found.\")\n",
        "    except ValueError as ve:\n",
        "        raise ValueError(f\"Value Error: {ve}\")\n",
        "    except Exception as e:\n",
        "        raise Exception(f\"An error occurred: {e}\")\n",
        "\n",
        "def extract_vectors(df, index1, index2):\n",
        "    \"\"\"Extract feature vectors for the given indices.\"\"\"\n",
        "    vector1 = df.loc[index1].values\n",
        "    vector2 = df.loc[index2].values\n",
        "    return vector1, vector2\n",
        "\n",
        "def calculate_cosine_similarity(vector1, vector2):\n",
        "    \"\"\"Calculate the cosine similarity between two vectors.\"\"\"\n",
        "    dot_product = np.dot(vector1, vector2)\n",
        "    norm_vector1 = np.linalg.norm(vector1)\n",
        "    norm_vector2 = np.linalg.norm(vector2)\n",
        "\n",
        "    if norm_vector1 > 0 and norm_vector2 > 0:\n",
        "        return dot_product / (norm_vector1 * norm_vector2)\n",
        "    else:\n",
        "        return float('nan')  # Handle zero vectors\n",
        "\n",
        "def main():\n",
        "    file_path = '/content/Lab Session Data.xlsx'\n",
        "    sheet_name = 'thyroid0387_UCI'\n",
        "    index1 = 0  # Index of the first observation\n",
        "    index2 = 1  # Index of the second observation\n",
        "\n",
        "    try:\n",
        "        # Load the dataset\n",
        "        df = load_data(file_path, sheet_name)\n",
        "\n",
        "        # Extract vectors\n",
        "        vector1, vector2 = extract_vectors(df, index1, index2)\n",
        "\n",
        "        # Calculate cosine similarity\n",
        "        similarity = calculate_cosine_similarity(vector1, vector2)\n",
        "\n",
        "        print(\"\\nCosine Similarity:\", similarity)\n",
        "\n",
        "    except FileNotFoundError as e:\n",
        "        print(e)\n",
        "    except ValueError as ve:\n",
        "        print(ve)\n",
        "    except Exception as e:\n",
        "        print(e)\n",
        "\n",
        "if __name__ == \"__main__\":\n",
        "    main()\n"
      ],
      "metadata": {
        "colab": {
          "base_uri": "https://localhost:8080/"
        },
        "id": "YXOPza2F5UkL",
        "outputId": "852e9910-2875-461c-dc91-06649fa794bf"
      },
      "execution_count": 4,
      "outputs": [
        {
          "output_type": "stream",
          "name": "stdout",
          "text": [
            "\n",
            "Cosine Similarity: 0.9999999999999885\n"
          ]
        }
      ]
    }
  ]
}